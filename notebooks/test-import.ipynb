{
 "cells": [
  {
   "metadata": {},
   "cell_type": "code",
   "outputs": [],
   "execution_count": null,
   "source": [
    "# ruff: noqa: F403, F405\n",
    "from what2watchnextbot.dataimport import *"
   ],
   "id": "b172d047effc5476"
  },
  {
   "metadata": {},
   "cell_type": "code",
   "outputs": [],
   "execution_count": null,
   "source": "df = read_dataframe(\"../data/title.basics.tsv\", \"../data/title.ratings.tsv\")",
   "id": "47f32cdec3cb053b"
  },
  {
   "cell_type": "code",
   "execution_count": 3,
   "id": "125cf603bf538657",
   "metadata": {
    "ExecuteTime": {
     "end_time": "2025-01-02T14:33:04.640801Z",
     "start_time": "2025-01-02T14:33:02.551586Z"
    }
   },
   "outputs": [
    {
     "name": "stderr",
     "output_type": "stream",
     "text": [
      "/home/antos07/Projects/Personal/What2WatchNextBot/what2watchnextbot/dataimport.py:34: SettingWithCopyWarning: \n",
      "A value is trying to be set on a copy of a slice from a DataFrame\n",
      "\n",
      "See the caveats in the documentation: https://pandas.pydata.org/pandas-docs/stable/user_guide/indexing.html#returning-a-view-versus-a-copy\n",
      "  df.drop(columns=[\"originalTitle\", \"runtimeMinutes\", \"isAdult\"], inplace=True)\n"
     ]
    }
   ],
   "source": [
    "df = preprocess_dataframe(df)"
   ]
  },
  {
   "cell_type": "code",
   "execution_count": 4,
   "id": "925e609d8227f698",
   "metadata": {
    "ExecuteTime": {
     "end_time": "2025-01-02T14:33:04.668882Z",
     "start_time": "2025-01-02T14:33:04.652161Z"
    }
   },
   "outputs": [
    {
     "data": {
      "text/html": [
       "<div>\n",
       "<style scoped>\n",
       "    .dataframe tbody tr th:only-of-type {\n",
       "        vertical-align: middle;\n",
       "    }\n",
       "\n",
       "    .dataframe tbody tr th {\n",
       "        vertical-align: top;\n",
       "    }\n",
       "\n",
       "    .dataframe thead th {\n",
       "        text-align: right;\n",
       "    }\n",
       "</style>\n",
       "<table border=\"1\" class=\"dataframe\">\n",
       "  <thead>\n",
       "    <tr style=\"text-align: right;\">\n",
       "      <th></th>\n",
       "      <th>titleType</th>\n",
       "      <th>primaryTitle</th>\n",
       "      <th>startYear</th>\n",
       "      <th>endYear</th>\n",
       "      <th>genres</th>\n",
       "      <th>averageRating</th>\n",
       "      <th>numVotes</th>\n",
       "      <th>id</th>\n",
       "    </tr>\n",
       "    <tr>\n",
       "      <th>id</th>\n",
       "      <th></th>\n",
       "      <th></th>\n",
       "      <th></th>\n",
       "      <th></th>\n",
       "      <th></th>\n",
       "      <th></th>\n",
       "      <th></th>\n",
       "      <th></th>\n",
       "    </tr>\n",
       "  </thead>\n",
       "  <tbody>\n",
       "    <tr>\n",
       "      <th>9</th>\n",
       "      <td>TitleTypes.MOVIE</td>\n",
       "      <td>Miss Jerry</td>\n",
       "      <td>1894</td>\n",
       "      <td>NaN</td>\n",
       "      <td>[Romance]</td>\n",
       "      <td>5.4</td>\n",
       "      <td>216</td>\n",
       "      <td>9</td>\n",
       "    </tr>\n",
       "    <tr>\n",
       "      <th>147</th>\n",
       "      <td>TitleTypes.MOVIE</td>\n",
       "      <td>The Corbett-Fitzsimmons Fight</td>\n",
       "      <td>1897</td>\n",
       "      <td>NaN</td>\n",
       "      <td>[Documentary, News, Sport]</td>\n",
       "      <td>5.2</td>\n",
       "      <td>544</td>\n",
       "      <td>147</td>\n",
       "    </tr>\n",
       "    <tr>\n",
       "      <th>574</th>\n",
       "      <td>TitleTypes.MOVIE</td>\n",
       "      <td>The Story of the Kelly Gang</td>\n",
       "      <td>1906</td>\n",
       "      <td>NaN</td>\n",
       "      <td>[Action, Adventure, Biography]</td>\n",
       "      <td>6.0</td>\n",
       "      <td>952</td>\n",
       "      <td>574</td>\n",
       "    </tr>\n",
       "    <tr>\n",
       "      <th>591</th>\n",
       "      <td>TitleTypes.MOVIE</td>\n",
       "      <td>The Prodigal Son</td>\n",
       "      <td>1907</td>\n",
       "      <td>NaN</td>\n",
       "      <td>[Drama]</td>\n",
       "      <td>5.7</td>\n",
       "      <td>29</td>\n",
       "      <td>591</td>\n",
       "    </tr>\n",
       "    <tr>\n",
       "      <th>615</th>\n",
       "      <td>TitleTypes.MOVIE</td>\n",
       "      <td>Robbery Under Arms</td>\n",
       "      <td>1907</td>\n",
       "      <td>NaN</td>\n",
       "      <td>[Drama]</td>\n",
       "      <td>4.3</td>\n",
       "      <td>27</td>\n",
       "      <td>615</td>\n",
       "    </tr>\n",
       "    <tr>\n",
       "      <th>...</th>\n",
       "      <td>...</td>\n",
       "      <td>...</td>\n",
       "      <td>...</td>\n",
       "      <td>...</td>\n",
       "      <td>...</td>\n",
       "      <td>...</td>\n",
       "      <td>...</td>\n",
       "      <td>...</td>\n",
       "    </tr>\n",
       "    <tr>\n",
       "      <th>9916428</th>\n",
       "      <td>TitleTypes.MOVIE</td>\n",
       "      <td>The Secret of China</td>\n",
       "      <td>2019</td>\n",
       "      <td>NaN</td>\n",
       "      <td>[Adventure, History, War]</td>\n",
       "      <td>3.6</td>\n",
       "      <td>19</td>\n",
       "      <td>9916428</td>\n",
       "    </tr>\n",
       "    <tr>\n",
       "      <th>9916460</th>\n",
       "      <td>TitleTypes.MOVIE</td>\n",
       "      <td>Pink Taxi</td>\n",
       "      <td>2019</td>\n",
       "      <td>NaN</td>\n",
       "      <td>[Comedy]</td>\n",
       "      <td>8.9</td>\n",
       "      <td>19</td>\n",
       "      <td>9916460</td>\n",
       "    </tr>\n",
       "    <tr>\n",
       "      <th>9916538</th>\n",
       "      <td>TitleTypes.MOVIE</td>\n",
       "      <td>Kuambil Lagi Hatiku</td>\n",
       "      <td>2019</td>\n",
       "      <td>NaN</td>\n",
       "      <td>[Drama]</td>\n",
       "      <td>8.3</td>\n",
       "      <td>9</td>\n",
       "      <td>9916538</td>\n",
       "    </tr>\n",
       "    <tr>\n",
       "      <th>9916706</th>\n",
       "      <td>TitleTypes.MOVIE</td>\n",
       "      <td>Dankyavar Danka</td>\n",
       "      <td>2013</td>\n",
       "      <td>NaN</td>\n",
       "      <td>[Comedy]</td>\n",
       "      <td>7.7</td>\n",
       "      <td>9</td>\n",
       "      <td>9916706</td>\n",
       "    </tr>\n",
       "    <tr>\n",
       "      <th>9916730</th>\n",
       "      <td>TitleTypes.MOVIE</td>\n",
       "      <td>6 Gunn</td>\n",
       "      <td>2017</td>\n",
       "      <td>NaN</td>\n",
       "      <td>[Drama]</td>\n",
       "      <td>7.0</td>\n",
       "      <td>12</td>\n",
       "      <td>9916730</td>\n",
       "    </tr>\n",
       "  </tbody>\n",
       "</table>\n",
       "<p>480515 rows × 8 columns</p>\n",
       "</div>"
      ],
      "text/plain": [
       "                titleType                   primaryTitle  startYear  endYear  \\\n",
       "id                                                                             \n",
       "9        TitleTypes.MOVIE                     Miss Jerry       1894      NaN   \n",
       "147      TitleTypes.MOVIE  The Corbett-Fitzsimmons Fight       1897      NaN   \n",
       "574      TitleTypes.MOVIE    The Story of the Kelly Gang       1906      NaN   \n",
       "591      TitleTypes.MOVIE               The Prodigal Son       1907      NaN   \n",
       "615      TitleTypes.MOVIE             Robbery Under Arms       1907      NaN   \n",
       "...                   ...                            ...        ...      ...   \n",
       "9916428  TitleTypes.MOVIE            The Secret of China       2019      NaN   \n",
       "9916460  TitleTypes.MOVIE                      Pink Taxi       2019      NaN   \n",
       "9916538  TitleTypes.MOVIE            Kuambil Lagi Hatiku       2019      NaN   \n",
       "9916706  TitleTypes.MOVIE                Dankyavar Danka       2013      NaN   \n",
       "9916730  TitleTypes.MOVIE                         6 Gunn       2017      NaN   \n",
       "\n",
       "                                 genres  averageRating  numVotes       id  \n",
       "id                                                                         \n",
       "9                             [Romance]            5.4       216        9  \n",
       "147          [Documentary, News, Sport]            5.2       544      147  \n",
       "574      [Action, Adventure, Biography]            6.0       952      574  \n",
       "591                             [Drama]            5.7        29      591  \n",
       "615                             [Drama]            4.3        27      615  \n",
       "...                                 ...            ...       ...      ...  \n",
       "9916428       [Adventure, History, War]            3.6        19  9916428  \n",
       "9916460                        [Comedy]            8.9        19  9916460  \n",
       "9916538                         [Drama]            8.3         9  9916538  \n",
       "9916706                        [Comedy]            7.7         9  9916706  \n",
       "9916730                         [Drama]            7.0        12  9916730  \n",
       "\n",
       "[480515 rows x 8 columns]"
      ]
     },
     "execution_count": 4,
     "metadata": {},
     "output_type": "execute_result"
    }
   ],
   "source": [
    "df"
   ]
  },
  {
   "cell_type": "code",
   "execution_count": 5,
   "id": "7cf7ff6de58ec4e4",
   "metadata": {
    "ExecuteTime": {
     "end_time": "2025-01-02T14:33:05.185006Z",
     "start_time": "2025-01-02T14:33:04.733200Z"
    }
   },
   "outputs": [
    {
     "name": "stdout",
     "output_type": "stream",
     "text": [
      "<class 'pandas.core.frame.DataFrame'>\n",
      "Index: 480515 entries, 9 to 9916730\n",
      "Data columns (total 8 columns):\n",
      " #   Column         Non-Null Count   Dtype  \n",
      "---  ------         --------------   -----  \n",
      " 0   titleType      480515 non-null  object \n",
      " 1   primaryTitle   480515 non-null  object \n",
      " 2   startYear      480515 non-null  int64  \n",
      " 3   endYear        57597 non-null   float64\n",
      " 4   genres         480515 non-null  object \n",
      " 5   averageRating  480515 non-null  float64\n",
      " 6   numVotes       480515 non-null  int64  \n",
      " 7   id             480515 non-null  int64  \n",
      "dtypes: float64(2), int64(3), object(3)\n",
      "memory usage: 146.0 MB\n"
     ]
    }
   ],
   "source": [
    "df.info(memory_usage=\"deep\")"
   ]
  },
  {
   "cell_type": "code",
   "execution_count": 6,
   "id": "391c07c678112fed",
   "metadata": {
    "ExecuteTime": {
     "end_time": "2025-01-02T14:33:05.520463Z",
     "start_time": "2025-01-02T14:33:05.223472Z"
    }
   },
   "outputs": [
    {
     "data": {
      "text/plain": [
       "Index             3844120\n",
       "titleType        26908840\n",
       "primaryTitle     32483438\n",
       "startYear         3844120\n",
       "endYear           3844120\n",
       "genres           70615976\n",
       "averageRating     3844120\n",
       "numVotes          3844120\n",
       "id                3844120\n",
       "dtype: int64"
      ]
     },
     "execution_count": 6,
     "metadata": {},
     "output_type": "execute_result"
    }
   ],
   "source": [
    "df.memory_usage(deep=True)"
   ]
  },
  {
   "cell_type": "code",
   "execution_count": 7,
   "id": "173922116663f75b",
   "metadata": {
    "ExecuteTime": {
     "end_time": "2025-01-02T14:33:05.710160Z",
     "start_time": "2025-01-02T14:33:05.552926Z"
    }
   },
   "outputs": [
    {
     "data": {
      "text/plain": [
       "['Action',\n",
       " 'Adult',\n",
       " 'Adventure',\n",
       " 'Animation',\n",
       " 'Biography',\n",
       " 'Comedy',\n",
       " 'Crime',\n",
       " 'Documentary',\n",
       " 'Drama',\n",
       " 'Family',\n",
       " 'Fantasy',\n",
       " 'Film-Noir',\n",
       " 'Game-Show',\n",
       " 'History',\n",
       " 'Horror',\n",
       " 'Music',\n",
       " 'Musical',\n",
       " 'Mystery',\n",
       " 'News',\n",
       " 'Reality-TV',\n",
       " 'Romance',\n",
       " 'Sci-Fi',\n",
       " 'Short',\n",
       " 'Sport',\n",
       " 'Talk-Show',\n",
       " 'Thriller',\n",
       " 'War',\n",
       " 'Western']"
      ]
     },
     "execution_count": 7,
     "metadata": {},
     "output_type": "execute_result"
    }
   ],
   "source": [
    "genres = extract_genres(df)\n",
    "genres"
   ]
  },
  {
   "cell_type": "code",
   "execution_count": 8,
   "id": "cacdfccaf82722d0",
   "metadata": {
    "ExecuteTime": {
     "end_time": "2025-01-02T14:33:05.786745Z",
     "start_time": "2025-01-02T14:33:05.784242Z"
    }
   },
   "outputs": [],
   "source": [
    "import sqlalchemy as sa\n",
    "import sqlalchemy.orm as orm"
   ]
  },
  {
   "cell_type": "code",
   "execution_count": 9,
   "id": "5d5ba80a4a990078",
   "metadata": {
    "ExecuteTime": {
     "end_time": "2025-01-02T14:33:06.037164Z",
     "start_time": "2025-01-02T14:33:05.809866Z"
    }
   },
   "outputs": [],
   "source": [
    "engine = sa.create_engine(\"postgresql+psycopg://localhost/what2watchnextbot\")\n",
    "session = orm.Session(bind=engine)"
   ]
  },
  {
   "cell_type": "code",
   "execution_count": 10,
   "id": "6839b1e5a7dcc9d6",
   "metadata": {
    "ExecuteTime": {
     "end_time": "2025-01-02T14:34:58.042034Z",
     "start_time": "2025-01-02T14:33:06.046655Z"
    }
   },
   "outputs": [],
   "source": [
    "write_dataframe_to_db(df, session)"
   ]
  },
  {
   "cell_type": "code",
   "execution_count": 13,
   "id": "14b7b173bf14117d",
   "metadata": {
    "ExecuteTime": {
     "end_time": "2025-01-02T14:35:22.809527Z",
     "start_time": "2025-01-02T14:35:22.805023Z"
    }
   },
   "outputs": [],
   "source": [
    "session.commit()"
   ]
  }
 ],
 "metadata": {
  "kernelspec": {
   "display_name": "Python 3",
   "language": "python",
   "name": "python3"
  },
  "language_info": {
   "codemirror_mode": {
    "name": "ipython",
    "version": 2
   },
   "file_extension": ".py",
   "mimetype": "text/x-python",
   "name": "python",
   "nbconvert_exporter": "python",
   "pygments_lexer": "ipython2",
   "version": "2.7.6"
  }
 },
 "nbformat": 4,
 "nbformat_minor": 5
}
